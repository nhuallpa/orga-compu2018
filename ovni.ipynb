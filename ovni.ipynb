{
 "cells": [
  {
   "cell_type": "code",
   "execution_count": 1,
   "metadata": {},
   "outputs": [],
   "source": [
    "import pandas as pd\n",
    "import numpy as np\n",
    "import unicodedata as ud\n",
    "import matplotlib.pyplot as plt\n",
    "import matplotlib\n",
    "import math"
   ]
  },
  {
   "cell_type": "code",
   "execution_count": 105,
   "metadata": {},
   "outputs": [
    {
     "data": {
      "text/html": [
       "<style>.container { width:100% !important; }</style>"
      ],
      "text/plain": [
       "<IPython.core.display.HTML object>"
      ]
     },
     "metadata": {},
     "output_type": "display_data"
    }
   ],
   "source": [
    "# Uso todo el ancho de la página\n",
    "from IPython.core.display import display, HTML\n",
    "display(HTML(\"<style>.container { width:100% !important; }</style>\"))\n",
    "pd.set_option('display.max_columns', 1000)\n",
    "pd.set_option('display.width', 1000)"
   ]
  },
  {
   "cell_type": "code",
   "execution_count": 125,
   "metadata": {},
   "outputs": [],
   "source": [
    "dfs = pd.read_csv('/home/sebastian/Facu/OD/guia03/ufo-sightings/scrubbed.csv', low_memory = False)\n",
    "dfc = pd.read_csv('/home/sebastian/Facu/OD/guia03/ufo-sightings/complete.csv', low_memory = False,\\\n",
    "                  error_bad_lines = False, warn_bad_lines = False)"
   ]
  },
  {
   "cell_type": "code",
   "execution_count": 196,
   "metadata": {},
   "outputs": [
    {
     "data": {
      "text/html": [
       "<div>\n",
       "<style scoped>\n",
       "    .dataframe tbody tr th:only-of-type {\n",
       "        vertical-align: middle;\n",
       "    }\n",
       "\n",
       "    .dataframe tbody tr th {\n",
       "        vertical-align: top;\n",
       "    }\n",
       "\n",
       "    .dataframe thead th {\n",
       "        text-align: right;\n",
       "    }\n",
       "</style>\n",
       "<table border=\"1\" class=\"dataframe\">\n",
       "  <thead>\n",
       "    <tr style=\"text-align: right;\">\n",
       "      <th></th>\n",
       "      <th>datetime</th>\n",
       "      <th>city</th>\n",
       "      <th>state</th>\n",
       "      <th>country</th>\n",
       "      <th>shape</th>\n",
       "      <th>duration (seconds)</th>\n",
       "      <th>duration (hours/min)</th>\n",
       "      <th>comments</th>\n",
       "      <th>date posted</th>\n",
       "      <th>latitude</th>\n",
       "      <th>longitude</th>\n",
       "      <th>fecha</th>\n",
       "      <th>chevron</th>\n",
       "    </tr>\n",
       "  </thead>\n",
       "  <tbody>\n",
       "    <tr>\n",
       "      <th>0</th>\n",
       "      <td>10/10/1949 20:30</td>\n",
       "      <td>san marcos</td>\n",
       "      <td>tx</td>\n",
       "      <td>us</td>\n",
       "      <td>cylinder</td>\n",
       "      <td>2700</td>\n",
       "      <td>45 minutes</td>\n",
       "      <td>This event took place in early fall around 194...</td>\n",
       "      <td>4/27/2004</td>\n",
       "      <td>29.8830556</td>\n",
       "      <td>-97.941111</td>\n",
       "      <td>1949-10-10 20:30:00</td>\n",
       "      <td>0</td>\n",
       "    </tr>\n",
       "    <tr>\n",
       "      <th>1</th>\n",
       "      <td>10/10/1949 21:00</td>\n",
       "      <td>lackland afb</td>\n",
       "      <td>tx</td>\n",
       "      <td>NaN</td>\n",
       "      <td>light</td>\n",
       "      <td>7200</td>\n",
       "      <td>1-2 hrs</td>\n",
       "      <td>1949 Lackland AFB&amp;#44 TX.  Lights racing acros...</td>\n",
       "      <td>12/16/2005</td>\n",
       "      <td>29.38421</td>\n",
       "      <td>-98.581082</td>\n",
       "      <td>1949-10-10 21:00:00</td>\n",
       "      <td>0</td>\n",
       "    </tr>\n",
       "    <tr>\n",
       "      <th>2</th>\n",
       "      <td>10/10/1955 17:00</td>\n",
       "      <td>chester (uk/england)</td>\n",
       "      <td>NaN</td>\n",
       "      <td>gb</td>\n",
       "      <td>circle</td>\n",
       "      <td>20</td>\n",
       "      <td>20 seconds</td>\n",
       "      <td>Green/Orange circular disc over Chester&amp;#44 En...</td>\n",
       "      <td>1/21/2008</td>\n",
       "      <td>53.2</td>\n",
       "      <td>-2.916667</td>\n",
       "      <td>1955-10-10 17:00:00</td>\n",
       "      <td>0</td>\n",
       "    </tr>\n",
       "    <tr>\n",
       "      <th>3</th>\n",
       "      <td>10/10/1956 21:00</td>\n",
       "      <td>edna</td>\n",
       "      <td>tx</td>\n",
       "      <td>us</td>\n",
       "      <td>circle</td>\n",
       "      <td>20</td>\n",
       "      <td>1/2 hour</td>\n",
       "      <td>My older brother and twin sister were leaving ...</td>\n",
       "      <td>1/17/2004</td>\n",
       "      <td>28.9783333</td>\n",
       "      <td>-96.645833</td>\n",
       "      <td>1956-10-10 21:00:00</td>\n",
       "      <td>0</td>\n",
       "    </tr>\n",
       "    <tr>\n",
       "      <th>4</th>\n",
       "      <td>10/10/1960 20:00</td>\n",
       "      <td>kaneohe</td>\n",
       "      <td>hi</td>\n",
       "      <td>us</td>\n",
       "      <td>light</td>\n",
       "      <td>900</td>\n",
       "      <td>15 minutes</td>\n",
       "      <td>AS a Marine 1st Lt. flying an FJ4B fighter/att...</td>\n",
       "      <td>1/22/2004</td>\n",
       "      <td>21.4180556</td>\n",
       "      <td>-157.803611</td>\n",
       "      <td>1960-10-10 20:00:00</td>\n",
       "      <td>0</td>\n",
       "    </tr>\n",
       "  </tbody>\n",
       "</table>\n",
       "</div>"
      ],
      "text/plain": [
       "           datetime                  city state country     shape duration (seconds) duration (hours/min)                                           comments date posted    latitude  longitude                fecha  chevron\n",
       "0  10/10/1949 20:30            san marcos    tx      us  cylinder               2700           45 minutes  This event took place in early fall around 194...   4/27/2004  29.8830556  -97.941111 1949-10-10 20:30:00        0\n",
       "1  10/10/1949 21:00          lackland afb    tx     NaN     light               7200              1-2 hrs  1949 Lackland AFB&#44 TX.  Lights racing acros...  12/16/2005    29.38421  -98.581082 1949-10-10 21:00:00        0\n",
       "2  10/10/1955 17:00  chester (uk/england)   NaN      gb    circle                 20           20 seconds  Green/Orange circular disc over Chester&#44 En...   1/21/2008        53.2   -2.916667 1955-10-10 17:00:00        0\n",
       "3  10/10/1956 21:00                  edna    tx      us    circle                 20             1/2 hour  My older brother and twin sister were leaving ...   1/17/2004  28.9783333  -96.645833 1956-10-10 21:00:00        0\n",
       "4  10/10/1960 20:00               kaneohe    hi      us     light                900           15 minutes  AS a Marine 1st Lt. flying an FJ4B fighter/att...   1/22/2004  21.4180556 -157.803611 1960-10-10 20:00:00        0"
      ]
     },
     "execution_count": 196,
     "metadata": {},
     "output_type": "execute_result"
    }
   ],
   "source": [
    "dfs.head()"
   ]
  },
  {
   "cell_type": "code",
   "execution_count": 136,
   "metadata": {},
   "outputs": [],
   "source": [
    "dfs['fecha'] = pd.to_datetime(dfs['datetime'], errors = 'coerce')\n",
    "dfc['fecha'] = pd.to_datetime(dfc['datetime'], errors = 'coerce')"
   ]
  },
  {
   "cell_type": "code",
   "execution_count": 110,
   "metadata": {},
   "outputs": [],
   "source": [
    "#df.info(memory_usage = 'deep')"
   ]
  },
  {
   "cell_type": "code",
   "execution_count": 137,
   "metadata": {},
   "outputs": [
    {
     "name": "stdout",
     "output_type": "stream",
     "text": [
      "scrubbed: Index([u'datetime', u'city', u'state', u'country', u'shape', u'duration (seconds)', u'duration (hours/min)', u'comments', u'date posted', u'latitude', u'longitude ', u'fecha', u'chevron'], dtype='object')\n",
      "complete: Index([u'datetime', u'city', u'state', u'country', u'shape', u'duration (seconds)', u'duration (hours/min)', u'comments', u'date posted', u'latitude', u'longitude', u'fecha', u'chevron'], dtype='object')\n"
     ]
    }
   ],
   "source": [
    "print('scrubbed: %s' %(dfs.columns))\n",
    "print('complete: %s' %(dfc.columns))"
   ]
  },
  {
   "cell_type": "markdown",
   "metadata": {},
   "source": [
    "### Existen 143 registros de avistajes en Canadá durante el año 2010"
   ]
  },
  {
   "cell_type": "code",
   "execution_count": 144,
   "metadata": {},
   "outputs": [
    {
     "name": "stdout",
     "output_type": "stream",
     "text": [
      "scrubbed: 137\n",
      "complete: 153\n"
     ]
    }
   ],
   "source": [
    "mask = (dfs['fecha'] >= pd.Timestamp('2010-01-01')) & (dfs['fecha'] <= pd.Timestamp('2010-12-31'))\n",
    "dfaux = dfs.loc[mask]\n",
    "dfaux = dfaux[dfaux['country'] == 'ca']\n",
    "print('scrubbed: %d' %(len(dfaux)))\n",
    "\n",
    "mask = (dfc['fecha'] >= pd.Timestamp('2010-01-01')) & (dfc['fecha'] <= pd.Timestamp('2010-12-31'))\n",
    "dfaux = dfc.loc[mask]\n",
    "dfaux = dfaux[dfaux['country'] == 'ca']\n",
    "print('complete: %d' %(len(dfaux)))"
   ]
  },
  {
   "cell_type": "markdown",
   "metadata": {},
   "source": [
    "### Falso"
   ]
  },
  {
   "cell_type": "markdown",
   "metadata": {},
   "source": [
    "### El 10% de los reportes incluye objetos con forma de triangulo"
   ]
  },
  {
   "cell_type": "code",
   "execution_count": 147,
   "metadata": {},
   "outputs": [
    {
     "data": {
      "text/plain": [
       "array(['cylinder', 'light', 'circle', 'sphere', 'disk', 'fireball',\n",
       "       'unknown', 'oval', 'other', 'cigar', 'rectangle', 'chevron',\n",
       "       'triangle', 'formation', nan, 'delta', 'changing', 'egg',\n",
       "       'diamond', 'flash', 'teardrop', 'cone', 'cross', 'pyramid',\n",
       "       'round', 'crescent', 'flare', 'hexagon', 'dome', 'changed'],\n",
       "      dtype=object)"
      ]
     },
     "execution_count": 147,
     "metadata": {},
     "output_type": "execute_result"
    }
   ],
   "source": [
    "dfs['shape'].unique()"
   ]
  },
  {
   "cell_type": "code",
   "execution_count": 158,
   "metadata": {},
   "outputs": [
    {
     "name": "stdout",
     "output_type": "stream",
     "text": [
      "scrubbed, total formas: 78400\n",
      "complete, total formas: 85757\n"
     ]
    }
   ],
   "source": [
    "total = len(dfs['shape'].dropna())\n",
    "print('scrubbed, total formas: %d' %(total))\n",
    "\n",
    "total = len(dfc['shape'].dropna())\n",
    "print('complete, total formas: %d' %(total))"
   ]
  },
  {
   "cell_type": "code",
   "execution_count": 159,
   "metadata": {},
   "outputs": [
    {
     "name": "stdout",
     "output_type": "stream",
     "text": [
      "scrubbed, triangulos: 7865\n",
      "complete, triangulos: 8489\n"
     ]
    }
   ],
   "source": [
    "largo = len(dfs[dfs['shape'] == 'triangle'])\n",
    "print('scrubbed, triangulos: %d' %(largo))\n",
    "\n",
    "largo = len(dfc[dfc['shape'] == 'triangle'])\n",
    "print('complete, triangulos: %d' %(largo))"
   ]
  },
  {
   "cell_type": "markdown",
   "metadata": {},
   "source": [
    "### Verdadero"
   ]
  },
  {
   "cell_type": "markdown",
   "metadata": {},
   "source": [
    "### Entre los avistajes registrados en Washington, DC, las formas mas populares son luz, esfera y bola de fuego."
   ]
  },
  {
   "cell_type": "code",
   "execution_count": 165,
   "metadata": {},
   "outputs": [
    {
     "name": "stdout",
     "output_type": "stream",
     "text": [
      "scrubbed\n",
      "light        935\n",
      "fireball     381\n",
      "triangle     358\n",
      "circle       347\n",
      "unknown      318\n",
      "sphere       289\n",
      "other        282\n",
      "disk         210\n",
      "oval         189\n",
      "formation    127\n",
      "changing      92\n",
      "flash         82\n",
      "cigar         66\n",
      "rectangle     65\n",
      "cylinder      56\n",
      "diamond       53\n",
      "chevron       46\n",
      "egg           38\n",
      "teardrop      29\n",
      "cone          17\n",
      "cross          8\n",
      "delta          1\n",
      "Name: shape, dtype: int64\n",
      "\n",
      "complete\n",
      "light        979\n",
      "fireball     397\n",
      "triangle     378\n",
      "circle       375\n",
      "unknown      356\n",
      "other        310\n",
      "sphere       300\n",
      "disk         229\n",
      "oval         199\n",
      "formation    130\n",
      "changing      98\n",
      "flash         88\n",
      "cigar         72\n",
      "rectangle     66\n",
      "cylinder      63\n",
      "diamond       55\n",
      "chevron       49\n",
      "egg           40\n",
      "teardrop      31\n",
      "cone          18\n",
      "cross          9\n",
      "delta          2\n",
      "Name: shape, dtype: int64\n"
     ]
    }
   ],
   "source": [
    "dfaux = dfs[dfs['state'] == 'wa']\n",
    "print('scrubbed')\n",
    "print(dfaux['shape'].value_counts())\n",
    "\n",
    "dfaux = dfc[dfc['state'] == 'wa']\n",
    "print('\\ncomplete')\n",
    "print(dfaux['shape'].value_counts())"
   ]
  },
  {
   "cell_type": "markdown",
   "metadata": {},
   "source": [
    "### Falso"
   ]
  },
  {
   "cell_type": "markdown",
   "metadata": {},
   "source": [
    "### Existen 963 ufos reportados con forma de chevron"
   ]
  },
  {
   "cell_type": "code",
   "execution_count": 131,
   "metadata": {},
   "outputs": [
    {
     "name": "stdout",
     "output_type": "stream",
     "text": [
      "scrubbed.chevron count: 952\n",
      "complete.chevron count: 1007\n"
     ]
    }
   ],
   "source": [
    "dfs['chevron'] = (dfs['shape'] == 'chevron').astype(int)\n",
    "print('scrubbed.chevron count: %d' %(dfs['chevron'].sum()))\n",
    "\n",
    "dfc['chevron'] = (dfc['shape'] == 'chevron').astype(int)\n",
    "print('complete.chevron count: %d' %(dfc['chevron'].sum()))"
   ]
  },
  {
   "cell_type": "markdown",
   "metadata": {},
   "source": [
    "### Falso"
   ]
  },
  {
   "cell_type": "markdown",
   "metadata": {},
   "source": [
    "### El avistaje mas corto ocurrido en Marzo del 2007 ocurrió en la ciudad de Denver"
   ]
  },
  {
   "cell_type": "code",
   "execution_count": 170,
   "metadata": {},
   "outputs": [
    {
     "name": "stdout",
     "output_type": "stream",
     "text": [
      "scrubbed\n",
      "              datetime            city duration (seconds)\n",
      "33033  3/22/2007 22:15       corvallis                  1\n",
      "34683   3/4/2007 20:00         herndon                  1\n",
      "33749  3/27/2007 05:37  millstone twp.                1.5\n",
      "\n",
      "complete\n",
      "              datetime                         city duration (seconds)\n",
      "37231  3/26/2007 04:30                       parker                  0\n",
      "38415   3/4/2007 19:45                  eagle river                  0\n",
      "38757   3/6/2007 21:00  gila bend/wellton (between)                  0\n"
     ]
    }
   ],
   "source": [
    "mask = (dfs['fecha'] >= pd.Timestamp('2007-03-01')) & (dfs['fecha'] <= pd.Timestamp('2007-03-31'))\n",
    "dfaux = dfs.loc[mask, ['datetime', 'city', 'duration (seconds)']]\n",
    "dfaux = dfaux.sort_values(by=['duration (seconds)'])\n",
    "print('scrubbed')\n",
    "print(dfaux.head(3))\n",
    "\n",
    "mask = (dfc['fecha'] >= pd.Timestamp('2007-03-01')) & (dfc['fecha'] <= pd.Timestamp('2007-03-31'))\n",
    "dfaux = dfc.loc[mask, ['datetime', 'city', 'duration (seconds)']]\n",
    "dfaux = dfaux.sort_values(by=['duration (seconds)'])\n",
    "print('\\ncomplete')\n",
    "print(dfaux.head(3))"
   ]
  },
  {
   "cell_type": "markdown",
   "metadata": {},
   "source": [
    "### Falso"
   ]
  },
  {
   "cell_type": "markdown",
   "metadata": {},
   "source": [
    "### La forma mas común en los ufos registrados es circular"
   ]
  },
  {
   "cell_type": "code",
   "execution_count": 174,
   "metadata": {},
   "outputs": [
    {
     "name": "stdout",
     "output_type": "stream",
     "text": [
      "scrubbed\n",
      "light    16565\n",
      "Name: shape, dtype: int64\n",
      "\n",
      "complete\n",
      "light    17872\n",
      "Name: shape, dtype: int64\n"
     ]
    }
   ],
   "source": [
    "print('scrubbed')\n",
    "print(dfs['shape'].value_counts().head(1))\n",
    "\n",
    "print('\\ncomplete')\n",
    "print(dfc['shape'].value_counts().head(1))"
   ]
  },
  {
   "cell_type": "markdown",
   "metadata": {},
   "source": [
    "### Falso"
   ]
  },
  {
   "cell_type": "markdown",
   "metadata": {},
   "source": [
    "### Las Vegas, NV tiene un registro que aparece en el Top10 de avistajes con mayor duración en segundos para el mes de Marzo 2004."
   ]
  },
  {
   "cell_type": "code",
   "execution_count": 191,
   "metadata": {},
   "outputs": [
    {
     "name": "stdout",
     "output_type": "stream",
     "text": [
      "scrubbed, avistamientos en Nevada: 0\n",
      "complete, avistamientos en Nevada: 0\n"
     ]
    }
   ],
   "source": [
    "mask = (dfs['fecha'] >= pd.Timestamp('2004-03-01')) & (dfs['fecha'] <= pd.Timestamp('2004-03-31'))\n",
    "dfaux = dfs.loc[mask]\n",
    "dfaux = dfaux.sort_values(by=['duration (seconds)'], ascending=False)\n",
    "dfaux = dfaux.iloc[0:10]\n",
    "dfaux = dfaux[dfaux['state'] == 'nv']\n",
    "print('scrubbed, avistamientos en Nevada: %d' %(len(dfaux)))\n",
    "\n",
    "mask = (dfc['fecha'] >= pd.Timestamp('2004-03-01')) & (dfc['fecha'] <= pd.Timestamp('2004-03-31'))\n",
    "dfaux = dfc.loc[mask]\n",
    "dfaux = dfaux.sort_values(by=['duration (seconds)'], ascending=False)\n",
    "dfaux = dfaux.iloc[0:10]\n",
    "dfaux = dfaux[dfaux['state'] == 'nv']\n",
    "print('complete, avistamientos en Nevada: %d' %(len(dfaux)))"
   ]
  },
  {
   "cell_type": "markdown",
   "metadata": {},
   "source": [
    "### Falso"
   ]
  },
  {
   "cell_type": "markdown",
   "metadata": {},
   "source": [
    "### El promedio de duración de los ufos con formas cambiantes es superior al resto."
   ]
  },
  {
   "cell_type": "code",
   "execution_count": 195,
   "metadata": {},
   "outputs": [
    {
     "name": "stdout",
     "output_type": "stream",
     "text": [
      "\\scrubbed\n",
      "         duration (seconds)\n",
      "                       mean\n",
      "shape                      \n",
      "changed         3600.000000\n",
      "changing        2079.513405\n",
      "chevron          460.317174\n",
      "cigar           1917.106830\n",
      "\n",
      "complete\n",
      "         duration (seconds)\n",
      "                       mean\n",
      "shape                      \n",
      "changed         3600.000000\n",
      "changing        1933.579579\n",
      "chevron          488.626564\n",
      "cigar           1805.303414\n"
     ]
    }
   ],
   "source": [
    "dfaux = dfs.loc[:, ['shape', 'duration (seconds)']]\n",
    "dfaux['duration (seconds)'] = pd.to_numeric(dfaux['duration (seconds)'], errors='coerce')\n",
    "dfaux = dfaux.groupby('shape').agg({'duration (seconds)':['mean']})\n",
    "print('\\scrubbed')\n",
    "print(dfaux.head(4))\n",
    "\n",
    "dfaux = dfc.loc[:, ['shape', 'duration (seconds)']]\n",
    "dfaux['duration (seconds)'] = pd.to_numeric(dfaux['duration (seconds)'], errors='coerce')\n",
    "dfaux = dfaux.groupby('shape').agg({'duration (seconds)':['mean']})\n",
    "print('\\ncomplete')\n",
    "print(dfaux.head(4))"
   ]
  },
  {
   "cell_type": "markdown",
   "metadata": {},
   "source": [
    "### Verdadero"
   ]
  },
  {
   "cell_type": "code",
   "execution_count": null,
   "metadata": {},
   "outputs": [],
   "source": []
  },
  {
   "cell_type": "markdown",
   "metadata": {},
   "source": [
    "### No tengo la afirmación de la siguiente celda"
   ]
  },
  {
   "cell_type": "code",
   "execution_count": 55,
   "metadata": {},
   "outputs": [
    {
     "data": {
      "text/html": [
       "<div>\n",
       "<style scoped>\n",
       "    .dataframe tbody tr th:only-of-type {\n",
       "        vertical-align: middle;\n",
       "    }\n",
       "\n",
       "    .dataframe tbody tr th {\n",
       "        vertical-align: top;\n",
       "    }\n",
       "\n",
       "    .dataframe thead th {\n",
       "        text-align: right;\n",
       "    }\n",
       "</style>\n",
       "<table border=\"1\" class=\"dataframe\">\n",
       "  <thead>\n",
       "    <tr style=\"text-align: right;\">\n",
       "      <th></th>\n",
       "      <th>city</th>\n",
       "      <th>duration (seconds)</th>\n",
       "    </tr>\n",
       "  </thead>\n",
       "  <tbody>\n",
       "    <tr>\n",
       "      <th>559</th>\n",
       "      <td>birmingham (uk/england)</td>\n",
       "      <td>97836000.0</td>\n",
       "    </tr>\n",
       "    <tr>\n",
       "      <th>53384</th>\n",
       "      <td>ottawa (canada)</td>\n",
       "      <td>82800000.0</td>\n",
       "    </tr>\n",
       "    <tr>\n",
       "      <th>74660</th>\n",
       "      <td>greenbrier</td>\n",
       "      <td>66276000.0</td>\n",
       "    </tr>\n",
       "    <tr>\n",
       "      <th>64390</th>\n",
       "      <td>finley</td>\n",
       "      <td>52623200.0</td>\n",
       "    </tr>\n",
       "    <tr>\n",
       "      <th>38261</th>\n",
       "      <td>dont know</td>\n",
       "      <td>52623200.0</td>\n",
       "    </tr>\n",
       "    <tr>\n",
       "      <th>69215</th>\n",
       "      <td>englewood</td>\n",
       "      <td>52623200.0</td>\n",
       "    </tr>\n",
       "    <tr>\n",
       "      <th>52709</th>\n",
       "      <td>somerset (uk/england)</td>\n",
       "      <td>25248000.0</td>\n",
       "    </tr>\n",
       "    <tr>\n",
       "      <th>71172</th>\n",
       "      <td>virginia beach</td>\n",
       "      <td>10526400.0</td>\n",
       "    </tr>\n",
       "    <tr>\n",
       "      <th>6991</th>\n",
       "      <td>oklahoma</td>\n",
       "      <td>10526400.0</td>\n",
       "    </tr>\n",
       "    <tr>\n",
       "      <th>30596</th>\n",
       "      <td>menifee</td>\n",
       "      <td>10526400.0</td>\n",
       "    </tr>\n",
       "    <tr>\n",
       "      <th>10853</th>\n",
       "      <td>new canaan</td>\n",
       "      <td>9468000.0</td>\n",
       "    </tr>\n",
       "    <tr>\n",
       "      <th>54009</th>\n",
       "      <td>mostar (bosnia/herzogovina)</td>\n",
       "      <td>9468000.0</td>\n",
       "    </tr>\n",
       "    <tr>\n",
       "      <th>31486</th>\n",
       "      <td>griffin</td>\n",
       "      <td>7894800.0</td>\n",
       "    </tr>\n",
       "    <tr>\n",
       "      <th>53006</th>\n",
       "      <td>honolulu</td>\n",
       "      <td>6312000.0</td>\n",
       "    </tr>\n",
       "    <tr>\n",
       "      <th>30590</th>\n",
       "      <td>ganado</td>\n",
       "      <td>6312000.0</td>\n",
       "    </tr>\n",
       "    <tr>\n",
       "      <th>72377</th>\n",
       "      <td>united states</td>\n",
       "      <td>6312000.0</td>\n",
       "    </tr>\n",
       "    <tr>\n",
       "      <th>29747</th>\n",
       "      <td>tehran (iran)</td>\n",
       "      <td>6312000.0</td>\n",
       "    </tr>\n",
       "    <tr>\n",
       "      <th>693</th>\n",
       "      <td>chulucanas-piura la vieja (peru)</td>\n",
       "      <td>6312000.0</td>\n",
       "    </tr>\n",
       "    <tr>\n",
       "      <th>21527</th>\n",
       "      <td>imperial desert</td>\n",
       "      <td>6312000.0</td>\n",
       "    </tr>\n",
       "    <tr>\n",
       "      <th>49422</th>\n",
       "      <td>huntington</td>\n",
       "      <td>6312000.0</td>\n",
       "    </tr>\n",
       "  </tbody>\n",
       "</table>\n",
       "</div>"
      ],
      "text/plain": [
       "                                   city  duration (seconds)\n",
       "559             birmingham (uk/england)          97836000.0\n",
       "53384                   ottawa (canada)          82800000.0\n",
       "74660                        greenbrier          66276000.0\n",
       "64390                            finley          52623200.0\n",
       "38261                         dont know          52623200.0\n",
       "69215                         englewood          52623200.0\n",
       "52709             somerset (uk/england)          25248000.0\n",
       "71172                    virginia beach          10526400.0\n",
       "6991                           oklahoma          10526400.0\n",
       "30596                           menifee          10526400.0\n",
       "10853                        new canaan           9468000.0\n",
       "54009       mostar (bosnia/herzogovina)           9468000.0\n",
       "31486                           griffin           7894800.0\n",
       "53006                          honolulu           6312000.0\n",
       "30590                            ganado           6312000.0\n",
       "72377                     united states           6312000.0\n",
       "29747                     tehran (iran)           6312000.0\n",
       "693    chulucanas-piura la vieja (peru)           6312000.0\n",
       "21527                   imperial desert           6312000.0\n",
       "49422                        huntington           6312000.0"
      ]
     },
     "execution_count": 55,
     "metadata": {},
     "output_type": "execute_result"
    }
   ],
   "source": [
    "df3 = df.loc[:, ['city', 'duration (seconds)']]\n",
    "df3['duration (seconds)'] = pd.to_numeric(df['duration (seconds)'], errors='coerce')\n",
    "df3 = df3.sort_values(by=['duration (seconds)'], ascending=False)\n",
    "df3.head(20)"
   ]
  }
 ],
 "metadata": {
  "kernelspec": {
   "display_name": "Python 3",
   "language": "python",
   "name": "python3"
  },
  "language_info": {
   "codemirror_mode": {
    "name": "ipython",
    "version": 2
   },
   "file_extension": ".py",
   "mimetype": "text/x-python",
   "name": "python",
   "nbconvert_exporter": "python",
   "pygments_lexer": "ipython2",
   "version": "2.7.15rc1"
  }
 },
 "nbformat": 4,
 "nbformat_minor": 2
}
