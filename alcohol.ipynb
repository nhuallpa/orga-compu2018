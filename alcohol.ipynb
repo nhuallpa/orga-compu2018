{
 "cells": [
  {
   "cell_type": "code",
   "execution_count": 1,
   "metadata": {},
   "outputs": [],
   "source": [
    "import pandas as pd\n",
    "import numpy as np\n",
    "import unicodedata as ud\n",
    "import matplotlib.pyplot as plt\n",
    "import matplotlib\n",
    "import math"
   ]
  },
  {
   "cell_type": "code",
   "execution_count": 2,
   "metadata": {},
   "outputs": [
    {
     "data": {
      "text/html": [
       "<style>.container { width:100% !important; }</style>"
      ],
      "text/plain": [
       "<IPython.core.display.HTML object>"
      ]
     },
     "metadata": {},
     "output_type": "display_data"
    }
   ],
   "source": [
    "from IPython.core.display import display, HTML\n",
    "display(HTML(\"<style>.container { width:100% !important; }</style>\"))\n",
    "pd.set_option('display.max_columns', 1000)\n",
    "pd.set_option('display.width', 1000)"
   ]
  },
  {
   "cell_type": "code",
   "execution_count": 3,
   "metadata": {},
   "outputs": [],
   "source": [
    "dfpor = pd.read_csv('/home/sebastian/Facu/OD/guia03/alcohol/student-por.csv', low_memory = False)\n",
    "dfmat = pd.read_csv('/home/sebastian/Facu/OD/guia03/alcohol/student-mat.csv', low_memory = False)"
   ]
  },
  {
   "cell_type": "code",
   "execution_count": 4,
   "metadata": {},
   "outputs": [],
   "source": [
    "#df.info(memory_usage = 'deep')"
   ]
  },
  {
   "cell_type": "code",
   "execution_count": 5,
   "metadata": {},
   "outputs": [
    {
     "data": {
      "text/html": [
       "<div>\n",
       "<style scoped>\n",
       "    .dataframe tbody tr th:only-of-type {\n",
       "        vertical-align: middle;\n",
       "    }\n",
       "\n",
       "    .dataframe tbody tr th {\n",
       "        vertical-align: top;\n",
       "    }\n",
       "\n",
       "    .dataframe thead th {\n",
       "        text-align: right;\n",
       "    }\n",
       "</style>\n",
       "<table border=\"1\" class=\"dataframe\">\n",
       "  <thead>\n",
       "    <tr style=\"text-align: right;\">\n",
       "      <th></th>\n",
       "      <th>school</th>\n",
       "      <th>sex</th>\n",
       "      <th>age</th>\n",
       "      <th>address</th>\n",
       "      <th>famsize</th>\n",
       "      <th>Pstatus</th>\n",
       "      <th>Medu</th>\n",
       "      <th>Fedu</th>\n",
       "      <th>Mjob</th>\n",
       "      <th>Fjob</th>\n",
       "      <th>reason</th>\n",
       "      <th>guardian</th>\n",
       "      <th>traveltime</th>\n",
       "      <th>studytime</th>\n",
       "      <th>failures</th>\n",
       "      <th>schoolsup</th>\n",
       "      <th>famsup</th>\n",
       "      <th>paid</th>\n",
       "      <th>activities</th>\n",
       "      <th>nursery</th>\n",
       "      <th>higher</th>\n",
       "      <th>internet</th>\n",
       "      <th>romantic</th>\n",
       "      <th>famrel</th>\n",
       "      <th>freetime</th>\n",
       "      <th>goout</th>\n",
       "      <th>Dalc</th>\n",
       "      <th>Walc</th>\n",
       "      <th>health</th>\n",
       "      <th>absences</th>\n",
       "      <th>G1</th>\n",
       "      <th>G2</th>\n",
       "      <th>G3</th>\n",
       "    </tr>\n",
       "  </thead>\n",
       "  <tbody>\n",
       "    <tr>\n",
       "      <th>0</th>\n",
       "      <td>GP</td>\n",
       "      <td>F</td>\n",
       "      <td>18</td>\n",
       "      <td>U</td>\n",
       "      <td>GT3</td>\n",
       "      <td>A</td>\n",
       "      <td>4</td>\n",
       "      <td>4</td>\n",
       "      <td>at_home</td>\n",
       "      <td>teacher</td>\n",
       "      <td>course</td>\n",
       "      <td>mother</td>\n",
       "      <td>2</td>\n",
       "      <td>2</td>\n",
       "      <td>0</td>\n",
       "      <td>yes</td>\n",
       "      <td>no</td>\n",
       "      <td>no</td>\n",
       "      <td>no</td>\n",
       "      <td>yes</td>\n",
       "      <td>yes</td>\n",
       "      <td>no</td>\n",
       "      <td>no</td>\n",
       "      <td>4</td>\n",
       "      <td>3</td>\n",
       "      <td>4</td>\n",
       "      <td>1</td>\n",
       "      <td>1</td>\n",
       "      <td>3</td>\n",
       "      <td>4</td>\n",
       "      <td>0</td>\n",
       "      <td>11</td>\n",
       "      <td>11</td>\n",
       "    </tr>\n",
       "    <tr>\n",
       "      <th>1</th>\n",
       "      <td>GP</td>\n",
       "      <td>F</td>\n",
       "      <td>17</td>\n",
       "      <td>U</td>\n",
       "      <td>GT3</td>\n",
       "      <td>T</td>\n",
       "      <td>1</td>\n",
       "      <td>1</td>\n",
       "      <td>at_home</td>\n",
       "      <td>other</td>\n",
       "      <td>course</td>\n",
       "      <td>father</td>\n",
       "      <td>1</td>\n",
       "      <td>2</td>\n",
       "      <td>0</td>\n",
       "      <td>no</td>\n",
       "      <td>yes</td>\n",
       "      <td>no</td>\n",
       "      <td>no</td>\n",
       "      <td>no</td>\n",
       "      <td>yes</td>\n",
       "      <td>yes</td>\n",
       "      <td>no</td>\n",
       "      <td>5</td>\n",
       "      <td>3</td>\n",
       "      <td>3</td>\n",
       "      <td>1</td>\n",
       "      <td>1</td>\n",
       "      <td>3</td>\n",
       "      <td>2</td>\n",
       "      <td>9</td>\n",
       "      <td>11</td>\n",
       "      <td>11</td>\n",
       "    </tr>\n",
       "    <tr>\n",
       "      <th>2</th>\n",
       "      <td>GP</td>\n",
       "      <td>F</td>\n",
       "      <td>15</td>\n",
       "      <td>U</td>\n",
       "      <td>LE3</td>\n",
       "      <td>T</td>\n",
       "      <td>1</td>\n",
       "      <td>1</td>\n",
       "      <td>at_home</td>\n",
       "      <td>other</td>\n",
       "      <td>other</td>\n",
       "      <td>mother</td>\n",
       "      <td>1</td>\n",
       "      <td>2</td>\n",
       "      <td>0</td>\n",
       "      <td>yes</td>\n",
       "      <td>no</td>\n",
       "      <td>no</td>\n",
       "      <td>no</td>\n",
       "      <td>yes</td>\n",
       "      <td>yes</td>\n",
       "      <td>yes</td>\n",
       "      <td>no</td>\n",
       "      <td>4</td>\n",
       "      <td>3</td>\n",
       "      <td>2</td>\n",
       "      <td>2</td>\n",
       "      <td>3</td>\n",
       "      <td>3</td>\n",
       "      <td>6</td>\n",
       "      <td>12</td>\n",
       "      <td>13</td>\n",
       "      <td>12</td>\n",
       "    </tr>\n",
       "    <tr>\n",
       "      <th>3</th>\n",
       "      <td>GP</td>\n",
       "      <td>F</td>\n",
       "      <td>15</td>\n",
       "      <td>U</td>\n",
       "      <td>GT3</td>\n",
       "      <td>T</td>\n",
       "      <td>4</td>\n",
       "      <td>2</td>\n",
       "      <td>health</td>\n",
       "      <td>services</td>\n",
       "      <td>home</td>\n",
       "      <td>mother</td>\n",
       "      <td>1</td>\n",
       "      <td>3</td>\n",
       "      <td>0</td>\n",
       "      <td>no</td>\n",
       "      <td>yes</td>\n",
       "      <td>no</td>\n",
       "      <td>yes</td>\n",
       "      <td>yes</td>\n",
       "      <td>yes</td>\n",
       "      <td>yes</td>\n",
       "      <td>yes</td>\n",
       "      <td>3</td>\n",
       "      <td>2</td>\n",
       "      <td>2</td>\n",
       "      <td>1</td>\n",
       "      <td>1</td>\n",
       "      <td>5</td>\n",
       "      <td>0</td>\n",
       "      <td>14</td>\n",
       "      <td>14</td>\n",
       "      <td>14</td>\n",
       "    </tr>\n",
       "    <tr>\n",
       "      <th>4</th>\n",
       "      <td>GP</td>\n",
       "      <td>F</td>\n",
       "      <td>16</td>\n",
       "      <td>U</td>\n",
       "      <td>GT3</td>\n",
       "      <td>T</td>\n",
       "      <td>3</td>\n",
       "      <td>3</td>\n",
       "      <td>other</td>\n",
       "      <td>other</td>\n",
       "      <td>home</td>\n",
       "      <td>father</td>\n",
       "      <td>1</td>\n",
       "      <td>2</td>\n",
       "      <td>0</td>\n",
       "      <td>no</td>\n",
       "      <td>yes</td>\n",
       "      <td>no</td>\n",
       "      <td>no</td>\n",
       "      <td>yes</td>\n",
       "      <td>yes</td>\n",
       "      <td>no</td>\n",
       "      <td>no</td>\n",
       "      <td>4</td>\n",
       "      <td>3</td>\n",
       "      <td>2</td>\n",
       "      <td>1</td>\n",
       "      <td>2</td>\n",
       "      <td>5</td>\n",
       "      <td>0</td>\n",
       "      <td>11</td>\n",
       "      <td>13</td>\n",
       "      <td>13</td>\n",
       "    </tr>\n",
       "  </tbody>\n",
       "</table>\n",
       "</div>"
      ],
      "text/plain": [
       "  school sex  age address famsize Pstatus  Medu  Fedu     Mjob      Fjob  reason guardian  traveltime  studytime  failures schoolsup famsup paid activities nursery higher internet romantic  famrel  freetime  goout  Dalc  Walc  health  absences  G1  G2  G3\n",
       "0     GP   F   18       U     GT3       A     4     4  at_home   teacher  course   mother           2          2         0       yes     no   no         no     yes    yes       no       no       4         3      4     1     1       3         4   0  11  11\n",
       "1     GP   F   17       U     GT3       T     1     1  at_home     other  course   father           1          2         0        no    yes   no         no      no    yes      yes       no       5         3      3     1     1       3         2   9  11  11\n",
       "2     GP   F   15       U     LE3       T     1     1  at_home     other   other   mother           1          2         0       yes     no   no         no     yes    yes      yes       no       4         3      2     2     3       3         6  12  13  12\n",
       "3     GP   F   15       U     GT3       T     4     2   health  services    home   mother           1          3         0        no    yes   no        yes     yes    yes      yes      yes       3         2      2     1     1       5         0  14  14  14\n",
       "4     GP   F   16       U     GT3       T     3     3    other     other    home   father           1          2         0        no    yes   no         no     yes    yes       no       no       4         3      2     1     2       5         0  11  13  13"
      ]
     },
     "execution_count": 5,
     "metadata": {},
     "output_type": "execute_result"
    }
   ],
   "source": [
    "dfpor.head()"
   ]
  },
  {
   "cell_type": "markdown",
   "metadata": {},
   "source": [
    "### Agrego el promedio de cada alumno"
   ]
  },
  {
   "cell_type": "code",
   "execution_count": 13,
   "metadata": {},
   "outputs": [],
   "source": [
    "dfpor['promedio'] = (dfpor['G1'] + dfpor['G2'] + dfpor['G3']) / 3\n",
    "dfmat['promedio'] = (dfmat['G1'] + dfmat['G2'] + dfmat['G3']) / 3"
   ]
  },
  {
   "cell_type": "markdown",
   "metadata": {},
   "source": [
    "# Grupo de preguntas 1"
   ]
  },
  {
   "cell_type": "markdown",
   "metadata": {},
   "source": [
    "### Los alumnos de Matemática que eligieron el colegio en función de la cercanía a su hogar tienen mejor promedio de calificación, que los alumnos de Portugués que eligieron el establecimiento con igual criterio"
   ]
  },
  {
   "cell_type": "code",
   "execution_count": 23,
   "metadata": {},
   "outputs": [
    {
     "name": "stdout",
     "output_type": "stream",
     "text": [
      "promedio matemática: 10.605505\n",
      "promedio portugués: 11.874720\n"
     ]
    }
   ],
   "source": [
    "print('promedio matemática: %f' %(dfmat[dfmat['reason'] == 'home']['promedio'].mean()))\n",
    "print('promedio portugués: %f' %(dfpor[dfpor['reason'] == 'home']['promedio'].mean()))\n"
   ]
  },
  {
   "cell_type": "markdown",
   "metadata": {},
   "source": [
    "### Falso"
   ]
  },
  {
   "cell_type": "markdown",
   "metadata": {},
   "source": [
    "### El consumo de alcohol durante los fines de semana tiene mas influencia en la salud de los alumnos que en el tiempo de estudio."
   ]
  },
  {
   "cell_type": "code",
   "execution_count": 42,
   "metadata": {},
   "outputs": [
    {
     "name": "stdout",
     "output_type": "stream",
     "text": [
      "[1 3 2 4 5]\n",
      "[3 5 1 2 4]\n",
      "[2 3 1 4]\n"
     ]
    }
   ],
   "source": [
    "# Walc Weekend alcohol consumption (numeric: from 1 - very low to 5 - very high)\n",
    "print(dfmat['Walc'].unique())\n",
    "# health Current health status (numeric: from 1 - very bad to 5 - very good)\n",
    "print(dfmat['health'].unique())\n",
    "# studytime Weekly study time (numeric: 1 - <2 hours, 2 - 2 to 5 hours, 3 - 5 to 10 hours, or 4 - >10 hours)\n",
    "print(dfmat['studytime'].unique())"
   ]
  },
  {
   "cell_type": "code",
   "execution_count": 43,
   "metadata": {},
   "outputs": [
    {
     "name": "stdout",
     "output_type": "stream",
     "text": [
      "        health\n",
      "          mean\n",
      "Walc          \n",
      "1     3.443709\n",
      "2     3.576471\n",
      "3     3.425000\n",
      "4     3.882353\n",
      "5     3.857143\n",
      "        health\n",
      "          mean\n",
      "Walc          \n",
      "1     3.368421\n",
      "2     3.526667\n",
      "3     3.550000\n",
      "4     3.862069\n",
      "5     3.822222\n",
      "     studytime\n",
      "          mean\n",
      "Walc          \n",
      "1     2.284768\n",
      "2     1.976471\n",
      "3     1.987500\n",
      "4     1.647059\n",
      "5     1.714286\n",
      "     studytime\n",
      "          mean\n",
      "Walc          \n",
      "1     2.121457\n",
      "2     1.900000\n",
      "3     1.933333\n",
      "4     1.620690\n",
      "5     1.577778\n"
     ]
    }
   ],
   "source": [
    "print(dfmat.groupby('Walc').agg({'health':['mean']}))\n",
    "print(dfpor.groupby('Walc').agg({'health':['mean']}))\n",
    "print(dfmat.groupby('Walc').agg({'studytime':['mean']}))\n",
    "print(dfpor.groupby('Walc').agg({'studytime':['mean']}))"
   ]
  },
  {
   "cell_type": "markdown",
   "metadata": {},
   "source": [
    "### Falso"
   ]
  },
  {
   "cell_type": "markdown",
   "metadata": {},
   "source": [
    "### Los alumnos de la escuela Gabriel Pereira tienen mejor desempeño que los de la escuela Mousinho da Silveira, tanto para Matemática como para Portugués."
   ]
  },
  {
   "cell_type": "code",
   "execution_count": 44,
   "metadata": {},
   "outputs": [
    {
     "name": "stdout",
     "output_type": "stream",
     "text": [
      "matemática:\n",
      "         promedio\n",
      "             mean\n",
      "school           \n",
      "GP      10.737345\n",
      "MS      10.239130\n",
      "portugués:\n",
      "         promedio\n",
      "             mean\n",
      "school           \n",
      "GP      12.235619\n",
      "MS      10.482301\n"
     ]
    }
   ],
   "source": [
    "# sigo sin poder distinguir los alumnos de matemática de los de portugués\n",
    "dfaux = dfmat.groupby('school').agg({'promedio':['mean']})\n",
    "print('matemática:')\n",
    "print(dfaux)\n",
    "\n",
    "dfaux = dfpor.groupby('school').agg({'promedio':['mean']})\n",
    "print('\\nportugués:')\n",
    "print(dfaux)"
   ]
  },
  {
   "cell_type": "markdown",
   "metadata": {},
   "source": [
    "### Verdadero"
   ]
  },
  {
   "cell_type": "markdown",
   "metadata": {},
   "source": [
    "### Existen mas alumnos de Portugués en la escuela Mousinho da Silveira que en la Gabriel Pereira."
   ]
  },
  {
   "cell_type": "code",
   "execution_count": 49,
   "metadata": {},
   "outputs": [
    {
     "name": "stdout",
     "output_type": "stream",
     "text": [
      "school\n",
      "GP    423\n",
      "MS    226\n",
      "dtype: int64\n"
     ]
    }
   ],
   "source": [
    "print(dfpor.groupby('school').size())"
   ]
  },
  {
   "cell_type": "markdown",
   "metadata": {},
   "source": [
    "### Falso"
   ]
  },
  {
   "cell_type": "markdown",
   "metadata": {},
   "source": [
    "# Grupo de preguntas 2"
   ]
  },
  {
   "cell_type": "markdown",
   "metadata": {},
   "source": [
    "### La mayoría de las familias tienen hasta 3 miembros"
   ]
  },
  {
   "cell_type": "code",
   "execution_count": 51,
   "metadata": {},
   "outputs": [
    {
     "name": "stdout",
     "output_type": "stream",
     "text": [
      "['GT3' 'LE3']\n",
      "['GT3' 'LE3']\n"
     ]
    }
   ],
   "source": [
    "print(dfmat['famsize'].unique())\n",
    "print(dfpor['famsize'].unique())"
   ]
  },
  {
   "cell_type": "code",
   "execution_count": 57,
   "metadata": {},
   "outputs": [
    {
     "name": "stdout",
     "output_type": "stream",
     "text": [
      "famsize\n",
      "GT3    738\n",
      "LE3    306\n",
      "dtype: int64\n"
     ]
    }
   ],
   "source": [
    "print(dfmat.groupby('famsize').size() + dfpor.groupby('famsize').size())"
   ]
  },
  {
   "cell_type": "markdown",
   "metadata": {},
   "source": [
    "### Falso"
   ]
  },
  {
   "cell_type": "markdown",
   "metadata": {},
   "source": [
    "### Los alumnos con ambos padres en la casa tienen mejor desempeño que los padres que tienen un padre trabajando."
   ]
  },
  {
   "cell_type": "code",
   "execution_count": 74,
   "metadata": {},
   "outputs": [
    {
     "name": "stdout",
     "output_type": "stream",
     "text": [
      "matemática:\n",
      "          promedio\n",
      "              mean\n",
      "at_home           \n",
      "0        10.892673\n",
      "1         9.348718\n",
      "2        13.190476\n",
      "\n",
      "portugués:\n",
      "          promedio\n",
      "              mean\n",
      "at_home           \n",
      "0        11.931293\n",
      "1        10.572104\n",
      "2        11.537037\n"
     ]
    }
   ],
   "source": [
    "# Ambos en casa puede significar que:\n",
    "#   - Mjob == 'at_home' y Fjob == 'at_home'\n",
    "dfmat['at_home'] = (dfmat['Mjob'] == 'at_home').astype(int) + (dfmat['Fjob'] == 'at_home').astype(int)\n",
    "dfaux = dfmat.groupby('at_home').agg({'promedio':['mean']})\n",
    "print('matemática:')\n",
    "print(dfaux)\n",
    "\n",
    "dfpor['at_home'] = (dfpor['Mjob'] == 'at_home').astype(int) + (dfpor['Fjob'] == 'at_home').astype(int)\n",
    "dfaux = dfpor.groupby('at_home').agg({'promedio':['mean']})\n",
    "print('\\nportugués:')\n",
    "print(dfaux)"
   ]
  },
  {
   "cell_type": "markdown",
   "metadata": {},
   "source": [
    "#### Si fuera el caso: Verdadero (Pero otra pregunta, más abajo, es claramente verdadera)"
   ]
  },
  {
   "cell_type": "code",
   "execution_count": null,
   "metadata": {},
   "outputs": [],
   "source": [
    "# Ambos en casa puede significar que:\n",
    "#   - Mjob == 'at_home' y/o Fjob == 'at_home'"
   ]
  },
  {
   "cell_type": "code",
   "execution_count": 90,
   "metadata": {},
   "outputs": [
    {
     "name": "stdout",
     "output_type": "stream",
     "text": [
      "        promedio\n",
      "             sum\n",
      "at_home         \n",
      "False    11463.0\n",
      "True       300.0\n",
      "        promedio\n",
      "            size\n",
      "at_home         \n",
      "False     1019.0\n",
      "True        25.0\n"
     ]
    }
   ],
   "source": [
    "dfmat['at_home'] = (dfmat['Mjob'] == 'at_home') & (dfmat['Fjob'] == 'at_home')\n",
    "dfaux = dfmat.groupby('at_home')\n",
    "matsuma = dfaux.agg({'promedio':['sum']})\n",
    "matsize = dfaux.agg({'promedio':['size']})\n",
    "\n",
    "dfpor['at_home'] = (dfpor['Mjob'] == 'at_home') & (dfpor['Fjob'] == 'at_home')\n",
    "dfaux = dfpor.groupby('at_home')\n",
    "porsuma = dfaux.agg({'promedio':['sum']})\n",
    "porsize = dfaux.agg({'promedio':['size']})\n",
    "\n",
    "suma = (matsuma + porsuma).astype(float)\n",
    "size = (matsize + porsize).astype(float)\n",
    "print(suma)\n",
    "print(size)\n",
    "# Porque no puedo dividir?\n",
    "# dfaux = suma / size"
   ]
  },
  {
   "cell_type": "markdown",
   "metadata": {},
   "source": [
    "#### Si fuera el caso: Verdadero (Pero otra pregunta, más abajo, es claramente verdadera)"
   ]
  },
  {
   "cell_type": "code",
   "execution_count": 91,
   "metadata": {},
   "outputs": [
    {
     "name": "stdout",
     "output_type": "stream",
     "text": [
      "matemática:\n",
      "10.62523540489642\n",
      "portugués:\n",
      "11.636789689513765\n"
     ]
    }
   ],
   "source": [
    "# Ambos en casa puede significar que:\n",
    "#   - Pstatus == 'T'  (living together)\n",
    "mask = (dfmat['Pstatus'] == 'T')\n",
    "dfaux = dfmat.loc[mask]\n",
    "dfaux = dfaux['promedio'].mean()\n",
    "print('matemática:')\n",
    "print(dfaux)\n",
    "\n",
    "mask = (dfpor['Pstatus'] == 'T')\n",
    "dfaux = dfpor.loc[mask]\n",
    "dfaux = dfaux['promedio'].mean()\n",
    "print('portugués:')\n",
    "print(dfaux)"
   ]
  },
  {
   "cell_type": "markdown",
   "metadata": {},
   "source": [
    "#### A esta altura lo daría por falso, es muy confuso y el otro de más abajo es evidentemente verdadero"
   ]
  },
  {
   "cell_type": "markdown",
   "metadata": {},
   "source": [
    "### El contar con apoyo escolar adicional influye positivamente en las calificaciones."
   ]
  },
  {
   "cell_type": "code",
   "execution_count": 58,
   "metadata": {},
   "outputs": [
    {
     "name": "stdout",
     "output_type": "stream",
     "text": [
      "['yes' 'no']\n"
     ]
    }
   ],
   "source": [
    "# schoolsup Extra educational support (binary: yes or no)\n",
    "print(dfmat['schoolsup'].unique())"
   ]
  },
  {
   "cell_type": "code",
   "execution_count": 60,
   "metadata": {},
   "outputs": [
    {
     "name": "stdout",
     "output_type": "stream",
     "text": [
      "matemática:\n",
      "            promedio\n",
      "                mean\n",
      "schoolsup           \n",
      "no         10.875000\n",
      "yes         9.359477\n",
      "\n",
      "portugués:\n",
      "            promedio\n",
      "                mean\n",
      "schoolsup           \n",
      "no         11.690763\n",
      "yes        11.063725\n"
     ]
    }
   ],
   "source": [
    "dfaux = dfmat.groupby('schoolsup').agg({'promedio':['mean']})\n",
    "print('matemática:')\n",
    "print(dfaux)\n",
    "\n",
    "dfaux = dfpor.groupby('schoolsup').agg({'promedio':['mean']})\n",
    "print('\\nportugués:')\n",
    "print(dfaux)"
   ]
  },
  {
   "cell_type": "markdown",
   "metadata": {},
   "source": [
    "### Falso"
   ]
  },
  {
   "cell_type": "markdown",
   "metadata": {},
   "source": [
    "### El nivel de educación de los padres en áreas urbanas, es en promedio mas alto que el de los que residen en áreas rurales."
   ]
  },
  {
   "cell_type": "code",
   "execution_count": 62,
   "metadata": {},
   "outputs": [
    {
     "name": "stdout",
     "output_type": "stream",
     "text": [
      "['U' 'R']\n",
      "[4 1 2 3 0]\n"
     ]
    }
   ],
   "source": [
    "# address Student's home address type (binary: 'U' - urban or 'R' - rural)\n",
    "print(dfmat['address'].unique())\n",
    "# Fedu Father's education (numeric: 0 - none, 1 - primary education (4th grade), 2 - 5th to 9th grade, 3 - secondary education, or 4 - higher education)\n",
    "print(dfmat['Fedu'].unique())"
   ]
  },
  {
   "cell_type": "code",
   "execution_count": 65,
   "metadata": {},
   "outputs": [
    {
     "name": "stdout",
     "output_type": "stream",
     "text": [
      "matemática: padres: \n",
      "             Fedu\n",
      "             mean\n",
      "address          \n",
      "R        2.375000\n",
      "U        2.563518\n",
      "\n",
      "portugués: padres: \n",
      "             Fedu\n",
      "             mean\n",
      "address          \n",
      "R        2.071066\n",
      "U        2.409292\n"
     ]
    }
   ],
   "source": [
    "dfaux = dfmat.groupby('address').agg({'Fedu':['mean']})\n",
    "print('matemática: padres: ')\n",
    "print(dfaux)\n",
    "\n",
    "dfaux = dfpor.groupby('address').agg({'Fedu':['mean']})\n",
    "print('\\nportugués: padres: ')\n",
    "print(dfaux)"
   ]
  },
  {
   "cell_type": "markdown",
   "metadata": {},
   "source": [
    "### Verdadero"
   ]
  },
  {
   "cell_type": "code",
   "execution_count": null,
   "metadata": {},
   "outputs": [],
   "source": []
  },
  {
   "cell_type": "markdown",
   "metadata": {},
   "source": [
    "### No tengo la afirmación de la siguiente celda"
   ]
  },
  {
   "cell_type": "code",
   "execution_count": 21,
   "metadata": {},
   "outputs": [
    {
     "name": "stdout",
     "output_type": "stream",
     "text": [
      "12.081699346405232\n",
      "11.420370370370373\n"
     ]
    },
    {
     "name": "stderr",
     "output_type": "stream",
     "text": [
      "/home/sebastian/.local/lib/python2.7/site-packages/ipykernel_launcher.py:5: SettingWithCopyWarning: \n",
      "A value is trying to be set on a copy of a slice from a DataFrame.\n",
      "Try using .loc[row_indexer,col_indexer] = value instead\n",
      "\n",
      "See the caveats in the documentation: http://pandas.pydata.org/pandas-docs/stable/indexing.html#indexing-view-versus-copy\n",
      "  \"\"\"\n",
      "/home/sebastian/.local/lib/python2.7/site-packages/ipykernel_launcher.py:6: SettingWithCopyWarning: \n",
      "A value is trying to be set on a copy of a slice from a DataFrame.\n",
      "Try using .loc[row_indexer,col_indexer] = value instead\n",
      "\n",
      "See the caveats in the documentation: http://pandas.pydata.org/pandas-docs/stable/indexing.html#indexing-view-versus-copy\n",
      "  \n",
      "/home/sebastian/.local/lib/python2.7/site-packages/ipykernel_launcher.py:10: SettingWithCopyWarning: \n",
      "A value is trying to be set on a copy of a slice from a DataFrame.\n",
      "Try using .loc[row_indexer,col_indexer] = value instead\n",
      "\n",
      "See the caveats in the documentation: http://pandas.pydata.org/pandas-docs/stable/indexing.html#indexing-view-versus-copy\n",
      "  # Remove the CWD from sys.path while we load stuff.\n",
      "/home/sebastian/.local/lib/python2.7/site-packages/ipykernel_launcher.py:11: SettingWithCopyWarning: \n",
      "A value is trying to be set on a copy of a slice from a DataFrame.\n",
      "Try using .loc[row_indexer,col_indexer] = value instead\n",
      "\n",
      "See the caveats in the documentation: http://pandas.pydata.org/pandas-docs/stable/indexing.html#indexing-view-versus-copy\n",
      "  # This is added back by InteractiveShellApp.init_path()\n"
     ]
    }
   ],
   "source": [
    "data_sa_filtrado = df[df['Mjob'] != 'other']\n",
    "data_sa_filtrado = df[df['Fjob'] != 'other']\n",
    "\n",
    "dfigual = data_sa_filtrado[data_sa_filtrado['Mjob'] == data_sa_filtrado['Fjob']]\n",
    "dfigual['total'] = dfigual['G1'] + dfigual['G2'] + dfigual['G3'] \n",
    "dfigual['promedio'] = dfigual['total'] / 3\n",
    "\n",
    "\n",
    "dfdistinto = data_sa_filtrado[data_sa_filtrado['Mjob'] != data_sa_filtrado['Fjob']]\n",
    "dfdistinto['total'] = dfdistinto['G1'] + dfdistinto['G2'] + dfdistinto['G3'] \n",
    "dfdistinto['promedio'] = dfdistinto['total'] / 3\n",
    "\n",
    "print(dfigual['promedio'].mean())\n",
    "print(dfdistinto['promedio'].mean())"
   ]
  }
 ],
 "metadata": {
  "kernelspec": {
   "display_name": "Python 3",
   "language": "python",
   "name": "python3"
  },
  "language_info": {
   "codemirror_mode": {
    "name": "ipython",
    "version": 2
   },
   "file_extension": ".py",
   "mimetype": "text/x-python",
   "name": "python",
   "nbconvert_exporter": "python",
   "pygments_lexer": "ipython2",
   "version": "2.7.15rc1"
  }
 },
 "nbformat": 4,
 "nbformat_minor": 2
}
