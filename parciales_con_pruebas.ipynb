{
 "cells": [
  {
   "cell_type": "code",
   "execution_count": 1,
   "metadata": {},
   "outputs": [
    {
     "data": {
      "text/plain": [
       "pyspark.context.SparkContext"
      ]
     },
     "execution_count": 1,
     "metadata": {},
     "output_type": "execute_result"
    }
   ],
   "source": [
    "import pyspark\n",
    "\n",
    "try: \n",
    "    type(sc)\n",
    "except NameError:\n",
    "    sc = pyspark.SparkContext('local[*]')    \n",
    "    \n",
    "type(sc)"
   ]
  },
  {
   "cell_type": "markdown",
   "metadata": {},
   "source": [
    "1) A partir de la plataforma online (e-shop) de los países en los que opera, Nintendo tiene información de ventas de videojuegos diarias digitales por país en el siguiente RDD:  \n",
    "(id_videojuego, codigo_pais, fecha, visitas_diarias, total_ventas_diarias).  \n",
    "Por otro lado se tienen otro RDD que tiene información de todos los videojuegos que se venden en su plataforma con el siguiente formato  \n",
    "(id_videojuego, titulo, rating_pegi, rating_esbr).  \n",
    "Tener en cuenta que un mismo videojuego se puede vender en distintos países y esos nos permitirá obtener métricas a nivel global. Con esta información escribir un programa en pySpark que permita:  \n",
    "a) Obtener el videojuego con más ventas digitales globales (es decir en todos los países) en un RDD con el siguiente formato: (id_videojuego, titulo, total), siendo total la cantidad total de ventas digitales globales  \n",
    "b) Para el videojuego con mas ventas, obtener cual es el país para el cual ser registra una mayor tasa de conversión (es decir, mayor total_ventas_diarias / visitas_diarias) (**) (15 pts)"
   ]
  },
  {
   "cell_type": "code",
   "execution_count": 2,
   "metadata": {},
   "outputs": [],
   "source": [
    "ventas = [(1, 32, '20171201', 1024, 99),\n",
    "          (3, 32, '20151201', 24, 20),\n",
    "          (1, 32, '20171203', 4410, 325),\n",
    "          (2, 32, '20161204', 58, 31),\n",
    "          (2, 36, '20161204', 254, 102),\n",
    "          (3, 36, '20171210', 234, 129),\n",
    "          (1, 380, '20171211', 10624, 8979)]\n",
    "juegos = [(1, 'Another World', '16', 'Mature'),\n",
    "          (2, 'Maniac Mansion', '12', 'Teen'),\n",
    "          (3, 'Bubble Bubble', '3', 'Everyone')]\n",
    "paises = [(32, 'Argentina'),\n",
    "          (36, 'Australia'),\n",
    "          (380, 'Italia')]\n",
    "\n",
    "rddVentas = sc.parallelize(ventas)\n",
    "rddJuegos = sc.parallelize(juegos)\n",
    "rddPaises = sc.parallelize(paises)"
   ]
  },
  {
   "cell_type": "code",
   "execution_count": 3,
   "metadata": {},
   "outputs": [
    {
     "data": {
      "text/plain": [
       "[(1, 99), (3, 20), (1, 325), (2, 31), (2, 102), (3, 129), (1, 8979)]"
      ]
     },
     "execution_count": 3,
     "metadata": {},
     "output_type": "execute_result"
    }
   ],
   "source": [
    "# Solo para ver como va quedando\n",
    "rddVentas.map(lambda x: (x[0],x[4]))\\\n",
    ".collect()"
   ]
  },
  {
   "cell_type": "code",
   "execution_count": 4,
   "metadata": {},
   "outputs": [
    {
     "data": {
      "text/plain": [
       "[(2, 133), (1, 9403), (3, 149)]"
      ]
     },
     "execution_count": 4,
     "metadata": {},
     "output_type": "execute_result"
    }
   ],
   "source": [
    "# Solo para ver como va quedando\n",
    "rddVentas.map(lambda x: (x[0],x[4]))\\\n",
    ".reduceByKey(lambda x,y: x+y)\\\n",
    ".collect()"
   ]
  },
  {
   "cell_type": "code",
   "execution_count": 5,
   "metadata": {},
   "outputs": [
    {
     "data": {
      "text/plain": [
       "[(1, 'Another World', 9403),\n",
       " (2, 'Maniac Mansion', 133),\n",
       " (3, 'Bubble Bubble', 149)]"
      ]
     },
     "execution_count": 5,
     "metadata": {},
     "output_type": "execute_result"
    }
   ],
   "source": [
    "# Solo para ver como va quedando\n",
    "rddVentas.map(lambda x: (x[0],x[4]))\\\n",
    ".reduceByKey(lambda x,y: x+y)\\\n",
    ".join(rddJuegos.map(lambda x: (x[0],x[1])))\\\n",
    ".map(lambda x: (x[0],x[1][1],x[1][0]))\\\n",
    ".collect()"
   ]
  },
  {
   "cell_type": "markdown",
   "metadata": {},
   "source": [
    "a) Obtener el videojuego con más ventas digitales globales (es decir en todos los países) en un RDD con el siguiente formato: (id_videojuego, titulo, total), siendo total la cantidad total de ventas digitales globales"
   ]
  },
  {
   "cell_type": "code",
   "execution_count": 6,
   "metadata": {},
   "outputs": [
    {
     "data": {
      "text/plain": [
       "(1, 'Another World', 9403)"
      ]
     },
     "execution_count": 6,
     "metadata": {},
     "output_type": "execute_result"
    }
   ],
   "source": [
    "# Solucion parte a\n",
    "rdd_a = rddVentas.map(lambda x: (x[0],x[4]))\\\n",
    ".reduceByKey(lambda x,y: x+y)\\\n",
    ".join(rddJuegos.map(lambda x: (x[0],x[1])))\\\n",
    ".map(lambda x: (x[0],x[1][1],x[1][0]))\n",
    "tupla = rdd_a.reduce(lambda x,y: x if x[2]>y[2] else y)\n",
    "tupla"
   ]
  },
  {
   "cell_type": "markdown",
   "metadata": {},
   "source": [
    "b) Para el videojuego con mas ventas, obtener cual es el país para el cual ser registra una mayor tasa de conversión (es decir, mayor total_ventas_diarias / visitas_diarias) (**) (15 pts)"
   ]
  },
  {
   "cell_type": "code",
   "execution_count": 7,
   "metadata": {},
   "outputs": [
    {
     "data": {
      "text/plain": [
       "(380, 0.8451618975903614)"
      ]
     },
     "execution_count": 7,
     "metadata": {},
     "output_type": "execute_result"
    }
   ],
   "source": [
    "# Solucion parte b\n",
    "rddVentas.map(lambda x: (x[0],(x[1],x[3],x[4])))\\\n",
    ".filter(lambda x: x[0] == tupla[0])\\\n",
    ".map(lambda x: (x[1][0],(x[1][1],x[1][2])))\\\n",
    ".reduceByKey(lambda x,y: (x[0]+y[0], x[1]+y[1]))\\\n",
    ".map(lambda x: (x[0],(float(x[1][1])/float(x[1][0]))))\\\n",
    ".reduce(lambda x,y: x if x[1]>y[1] else y)"
   ]
  },
  {
   "cell_type": "code",
   "execution_count": null,
   "metadata": {},
   "outputs": [],
   "source": []
  },
  {
   "cell_type": "markdown",
   "metadata": {},
   "source": [
    "### Otra forma, más parecida a como haciamos ayer"
   ]
  },
  {
   "cell_type": "code",
   "execution_count": 8,
   "metadata": {},
   "outputs": [
    {
     "data": {
      "text/plain": [
       "[(1, ((32, 99), 'Another World')),\n",
       " (1, ((32, 325), 'Another World')),\n",
       " (1, ((380, 8979), 'Another World')),\n",
       " (2, ((32, 31), 'Maniac Mansion')),\n",
       " (2, ((36, 102), 'Maniac Mansion')),\n",
       " (3, ((32, 20), 'Bubble Bubble')),\n",
       " (3, ((36, 129), 'Bubble Bubble'))]"
      ]
     },
     "execution_count": 8,
     "metadata": {},
     "output_type": "execute_result"
    }
   ],
   "source": [
    "# Solo para ver como va quedando\n",
    "rddVentasById = rddVentas.map(lambda x: (x[0],(x[1],x[4])))\n",
    "rddJuegosById = rddJuegos.map(lambda x: (x[0],(x[1])))\n",
    "\n",
    "rddVentasById.join(rddJuegosById)\\\n",
    ".collect()"
   ]
  },
  {
   "cell_type": "code",
   "execution_count": 9,
   "metadata": {},
   "outputs": [
    {
     "data": {
      "text/plain": [
       "[(1, (32, 99, 'Another World')),\n",
       " (1, (32, 325, 'Another World')),\n",
       " (1, (380, 8979, 'Another World')),\n",
       " (2, (32, 31, 'Maniac Mansion')),\n",
       " (2, (36, 102, 'Maniac Mansion')),\n",
       " (3, (32, 20, 'Bubble Bubble')),\n",
       " (3, (36, 129, 'Bubble Bubble'))]"
      ]
     },
     "execution_count": 9,
     "metadata": {},
     "output_type": "execute_result"
    }
   ],
   "source": [
    "# Solo para ver como va quedando\n",
    "rddVentasById.join(rddJuegosById)\\\n",
    ".map(lambda x: (x[0],(x[1][0][0],x[1][0][1],x[1][1])))\\\n",
    ".collect()"
   ]
  },
  {
   "cell_type": "markdown",
   "metadata": {},
   "source": [
    "a) Obtener el videojuego con más ventas digitales globales (es decir en todos los países) en un RDD con el siguiente formato: (id_videojuego, titulo, total), siendo total la cantidad total de ventas digitales globales"
   ]
  },
  {
   "cell_type": "code",
   "execution_count": 10,
   "metadata": {},
   "outputs": [
    {
     "data": {
      "text/plain": [
       "(1, 'Another World', 9403)"
      ]
     },
     "execution_count": 10,
     "metadata": {},
     "output_type": "execute_result"
    }
   ],
   "source": [
    "# Solucion parte a\n",
    "rddVentasById.join(rddJuegosById)\\\n",
    ".map(lambda x: (x[0],(x[1][0][0],x[1][0][1],x[1][1])))\\\n",
    ".reduceByKey(lambda x,y: (x[0], (x[1]+y[1]), x[2]))\\\n",
    ".map(lambda x: (x[0], x[1][2], x[1][1]))\\\n",
    ".reduce(lambda x,y: x if x[2]>y[2] else y)"
   ]
  }
 ],
 "metadata": {
  "kernelspec": {
   "display_name": "Python 2",
   "language": "python",
   "name": "python2"
  },
  "language_info": {
   "codemirror_mode": {
    "name": "ipython",
    "version": 2
   },
   "file_extension": ".py",
   "mimetype": "text/x-python",
   "name": "python",
   "nbconvert_exporter": "python",
   "pygments_lexer": "ipython2",
   "version": "2.7.15rc1"
  }
 },
 "nbformat": 4,
 "nbformat_minor": 2
}
