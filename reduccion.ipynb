{
 "cells": [
  {
   "cell_type": "code",
   "execution_count": 203,
   "metadata": {},
   "outputs": [
    {
     "data": {
      "text/html": [
       "<style>.container { width:100% !important; }</style>"
      ],
      "text/plain": [
       "<IPython.core.display.HTML object>"
      ]
     },
     "metadata": {},
     "output_type": "display_data"
    }
   ],
   "source": [
    "from IPython.core.display import display, HTML\n",
    "display(HTML(\"<style>.container { width:100% !important; }</style>\"))\n",
    "pd.set_option('display.max_columns', 1000)\n",
    "pd.set_option('display.width', 1000)"
   ]
  },
  {
   "cell_type": "code",
   "execution_count": 204,
   "metadata": {},
   "outputs": [],
   "source": [
    "import pandas as pd\n",
    "import numpy as np\n",
    "from numpy import linalg as la"
   ]
  },
  {
   "cell_type": "code",
   "execution_count": 205,
   "metadata": {},
   "outputs": [
    {
     "data": {
      "text/plain": [
       "matrix([[ 1,  6,  2,  3],\n",
       "        [ 3,  4,  6,  1],\n",
       "        [ 5,  1, 10,  4],\n",
       "        [ 6,  0, 11,  2]])"
      ]
     },
     "execution_count": 205,
     "metadata": {},
     "output_type": "execute_result"
    }
   ],
   "source": [
    "# Copio la matriz de ejercicio que empieza asi: Tenemos 4 puntos en 5 dimensiones\n",
    "# representados por la siguiente matriz...\n",
    "\n",
    "# La desviacion estándar de la columna 5 es cero, los que trae problemas cuando debo dividir mas abajo.\n",
    "# lista = [[1, 6, 2, 3, 2],[3, 4, 6, 1, 2],[5, 1, 10, 4, 2],[6, 0, 11, 2, 2]]\n",
    "# La borro:\n",
    "lista = [[1, 6, 2, 3],[3, 4, 6, 1],[5, 1, 10, 4],[6, 0, 11, 2]]\n",
    "A = np.matrix(lista)\n",
    "A"
   ]
  },
  {
   "cell_type": "code",
   "execution_count": 206,
   "metadata": {},
   "outputs": [
    {
     "data": {
      "text/plain": [
       "matrix([[3.75, 2.75, 7.25, 2.5 ]])"
      ]
     },
     "execution_count": 206,
     "metadata": {},
     "output_type": "execute_result"
    }
   ],
   "source": [
    "# Calculo el promedio de cada columna.\n",
    "M = A.mean(0)\n",
    "M"
   ]
  },
  {
   "cell_type": "code",
   "execution_count": 207,
   "metadata": {},
   "outputs": [
    {
     "data": {
      "text/plain": [
       "matrix([[-2.75,  3.25, -5.25,  0.5 ],\n",
       "        [-0.75,  1.25, -1.25, -1.5 ],\n",
       "        [ 1.25, -1.75,  2.75,  1.5 ],\n",
       "        [ 2.25, -2.75,  3.75, -0.5 ]])"
      ]
     },
     "execution_count": 207,
     "metadata": {},
     "output_type": "execute_result"
    }
   ],
   "source": [
    "# Paso 1 del apunte, página 298.\n",
    "# 1. Para cada elemento de la columna de Ai, restarle el promedio de dicha\n",
    "# columna. Esto permite centrar los datos en el origen.\n",
    "A1 = A - M\n",
    "A1"
   ]
  },
  {
   "cell_type": "code",
   "execution_count": 208,
   "metadata": {},
   "outputs": [
    {
     "data": {
      "text/plain": [
       "matrix([[1.92028644, 2.384848  , 3.56195171, 1.11803399]])"
      ]
     },
     "execution_count": 208,
     "metadata": {},
     "output_type": "execute_result"
    }
   ],
   "source": [
    "# Calculo la desviacion estándar de cada columna.\n",
    "# Paso 1: calcular la media.\n",
    "# Paso 2: calcular el cuadrado de la distancia a la media para cada dato.\n",
    "# Paso 3: sumar los valores que resultaron del paso 2.\n",
    "# Paso 4: dividir entre el número de datos.\n",
    "# Paso 5: sacar la raíz cuadrada.\n",
    "S = A1.std(0)\n",
    "S"
   ]
  },
  {
   "cell_type": "code",
   "execution_count": 209,
   "metadata": {},
   "outputs": [
    {
     "data": {
      "text/plain": [
       "matrix([[-1.43207802,  1.36277029, -1.47391105,  0.4472136 ],\n",
       "        [-0.39056673,  0.52414242, -0.3509312 , -1.34164079],\n",
       "        [ 0.65094455, -0.73379939,  0.77204865,  1.34164079],\n",
       "        [ 1.1717002 , -1.15311332,  1.05279361, -0.4472136 ]])"
      ]
     },
     "execution_count": 209,
     "metadata": {},
     "output_type": "execute_result"
    }
   ],
   "source": [
    "# Paso 2 del apunte, página 298.\n",
    "# 2. Para cada elemento de la columna Ai, dividirlo por la desviación estándar\n",
    "# de dicha columna. Esto permite escalar los datos.\n",
    "A2 = A1 / S\n",
    "A2"
   ]
  },
  {
   "cell_type": "code",
   "execution_count": 210,
   "metadata": {},
   "outputs": [
    {
     "data": {
      "text/plain": [
       "matrix([[ 1.        , -0.99626795,  0.99598426,  0.05822225],\n",
       "        [-0.99626795,  1.        , -0.99326482, -0.14064217],\n",
       "        [ 0.99598426, -0.99326482,  1.        ,  0.09416472],\n",
       "        [ 0.05822225, -0.14064217,  0.09416472,  1.        ]])"
      ]
     },
     "execution_count": 210,
     "metadata": {},
     "output_type": "execute_result"
    }
   ],
   "source": [
    "# Paso 3 del apunte, página 298.\n",
    "# 3. Calcular la matriz de covarianza\n",
    "# cov(A) = (1 / (n − 1)) * At * A\n",
    "n = 5.\n",
    "A3 = (1./(n-1.))*A2.T*A2\n",
    "A3"
   ]
  },
  {
   "cell_type": "code",
   "execution_count": null,
   "metadata": {},
   "outputs": [],
   "source": []
  },
  {
   "cell_type": "code",
   "execution_count": 211,
   "metadata": {},
   "outputs": [
    {
     "data": {
      "text/plain": [
       "array([[ 1.        , -0.99626795,  0.99598426,  0.05822225],\n",
       "       [-0.99626795,  1.        , -0.99326482, -0.14064217],\n",
       "       [ 0.99598426, -0.99326482,  1.        ,  0.09416472],\n",
       "       [ 0.05822225, -0.14064217,  0.09416472,  1.        ]])"
      ]
     },
     "execution_count": 211,
     "metadata": {},
     "output_type": "execute_result"
    }
   ],
   "source": [
    "# Pearson correlation coefficient\n",
    "# Calculo con numpy para verificar que hice bien los cálculos\n",
    "# Con corrcoef me da distinto sino paso la transpuesta, ya que trabaja sobre las filas (igual que np.cov) \n",
    "np.corrcoef(A.T)"
   ]
  },
  {
   "cell_type": "code",
   "execution_count": null,
   "metadata": {},
   "outputs": [],
   "source": [
    "# La pregunta es:\n",
    "# Calcular la matriz de covarianza y aplicar PCA. Luego identificar la opción correcta entre las siguientes.\t \n",
    "#   a) La relación mas fuerte es entre la columna 1 y la 3.\n",
    "#   b) No hay ningun cero en la matriz de covarianza.\n",
    "#   c) La relación mas débil (ignorando valores nulos) se da entre la columna 1 y la 4\n",
    "#   d) No es conveniente representar este set de datos en menos de 3 dimensiones."
   ]
  },
  {
   "cell_type": "code",
   "execution_count": null,
   "metadata": {},
   "outputs": [],
   "source": [
    "# Asi la opción a es falsa, las opciones b y c son verdaderas. Por lo que esto no puede estar bien.\n",
    "# Pruebo trabajando sobre las filas.\n",
    "# Ver pregunta en piazza \"Duda con ejercicio de la guia de reduccion\" https://piazza.com/class/jkr2voxi1yw4wt?cid=37"
   ]
  },
  {
   "cell_type": "code",
   "execution_count": 212,
   "metadata": {},
   "outputs": [
    {
     "data": {
      "text/plain": [
       "array([[ 1.        ,  0.08108108, -0.54105255, -0.6169527 ],\n",
       "       [ 0.08108108,  1.        ,  0.61516934,  0.67627507],\n",
       "       [-0.54105255,  0.61516934,  1.        ,  0.96957877],\n",
       "       [-0.6169527 ,  0.67627507,  0.96957877,  1.        ]])"
      ]
     },
     "execution_count": 212,
     "metadata": {},
     "output_type": "execute_result"
    }
   ],
   "source": [
    "# Pearson correlation coefficient\n",
    "# Pruebo calculando con las filas (y ahora completas, no existe más el problema de generar ceros)\n",
    "\n",
    "lista = [[1, 6, 2, 3, 2],[3, 4, 6, 1, 2],[5, 1, 10, 4, 2],[6, 0, 11, 2, 2]]\n",
    "A = np.matrix(lista)\n",
    "A\n",
    "np.corrcoef(A)"
   ]
  },
  {
   "cell_type": "code",
   "execution_count": 213,
   "metadata": {},
   "outputs": [],
   "source": [
    "# Así las opciones a y c son falsas, b es verdadera y queda probar la d"
   ]
  },
  {
   "cell_type": "code",
   "execution_count": 214,
   "metadata": {},
   "outputs": [],
   "source": [
    "from sklearn.decomposition import PCA"
   ]
  },
  {
   "cell_type": "code",
   "execution_count": 215,
   "metadata": {},
   "outputs": [],
   "source": [
    "pca = PCA(n_components=4)\n",
    "principalComponents = pca.fit_transform(A)\n",
    "u, s, v = np.linalg.svd(A)"
   ]
  },
  {
   "cell_type": "code",
   "execution_count": 216,
   "metadata": {},
   "outputs": [
    {
     "name": "stdout",
     "output_type": "stream",
     "text": [
      "[8.75864511e+01 1.12956726e+01 1.09775730e+00 2.01190239e-02]\n"
     ]
    }
   ],
   "source": [
    "singular_values = s\n",
    "energy_total = sum(singular_values**2)\n",
    "sv_pow = singular_values**2\n",
    "energy_percentage = ((sv_pow / energy_total) * 100)\n",
    "print(energy_percentage)"
   ]
  },
  {
   "cell_type": "code",
   "execution_count": 217,
   "metadata": {},
   "outputs": [
    {
     "name": "stdout",
     "output_type": "stream",
     "text": [
      "Number of Singular Values 1: 19.429297571923314 87.59%\n",
      "Number of Singular Values 2: 6.977417066483102 98.88%\n",
      "Number of Singular Values 3: 2.1751629706519973 99.98%\n",
      "Number of Singular Values 4: 0.29447069991709524 100.0%\n"
     ]
    }
   ],
   "source": [
    "acumulated_energy = 0\n",
    "for i in range(len(energy_percentage)):\n",
    "    acumulated_energy = acumulated_energy + energy_percentage[i]\n",
    "    print ('Number of Singular Values ' + str(i+1) + ': ' + str(singular_values[i]) + ' ' + str(round(acumulated_energy,2)) + '%')"
   ]
  },
  {
   "cell_type": "code",
   "execution_count": null,
   "metadata": {},
   "outputs": [],
   "source": [
    "# Con 3 dimensiones tengo casi un 100%, con 2 pierdo más del 1 porciento."
   ]
  },
  {
   "cell_type": "code",
   "execution_count": null,
   "metadata": {},
   "outputs": [],
   "source": []
  },
  {
   "cell_type": "code",
   "execution_count": 200,
   "metadata": {},
   "outputs": [],
   "source": [
    "#calculo autovectores y autovalores\n",
    "auto = la.eig(A3)\n",
    "autovalores = auto[0]\n",
    "autovectores = auto[1]"
   ]
  },
  {
   "cell_type": "code",
   "execution_count": 201,
   "metadata": {},
   "outputs": [
    {
     "data": {
      "text/plain": [
       "array([ 3.00462792e+00,  9.89174218e-01, -1.16670940e-16,  6.19785716e-03])"
      ]
     },
     "execution_count": 201,
     "metadata": {},
     "output_type": "execute_result"
    }
   ],
   "source": [
    "autovalores"
   ]
  },
  {
   "cell_type": "code",
   "execution_count": 202,
   "metadata": {},
   "outputs": [
    {
     "data": {
      "text/plain": [
       "matrix([[ 0.57456257, -0.08841501, -0.77578921, -0.2453808 ],\n",
       "        [-0.57635224,  0.00507641, -0.60216907,  0.55243528],\n",
       "        [ 0.57499352, -0.0521087 ,  0.17987705,  0.79643668],\n",
       "        [ 0.08413325,  0.99470684, -0.05646024,  0.01709201]])"
      ]
     },
     "execution_count": 202,
     "metadata": {},
     "output_type": "execute_result"
    }
   ],
   "source": [
    "autovectores"
   ]
  },
  {
   "cell_type": "code",
   "execution_count": null,
   "metadata": {},
   "outputs": [],
   "source": []
  },
  {
   "cell_type": "code",
   "execution_count": null,
   "metadata": {},
   "outputs": [],
   "source": []
  }
 ],
 "metadata": {
  "kernelspec": {
   "display_name": "Python 2",
   "language": "python",
   "name": "python2"
  },
  "language_info": {
   "codemirror_mode": {
    "name": "ipython",
    "version": 2
   },
   "file_extension": ".py",
   "mimetype": "text/x-python",
   "name": "python",
   "nbconvert_exporter": "python",
   "pygments_lexer": "ipython2",
   "version": "2.7.15rc1"
  }
 },
 "nbformat": 4,
 "nbformat_minor": 2
}
